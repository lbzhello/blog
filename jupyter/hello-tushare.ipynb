{
 "cells": [
  {
   "cell_type": "code",
   "execution_count": 1,
   "metadata": {},
   "outputs": [
    {
     "output_type": "execute_result",
     "data": {
      "text/plain": "        ts_code trade_date   open   high    low  close  pre_close  change  \\\n0     002945.SZ   20200522  13.78  13.94  13.52  13.54      13.80   -0.26   \n1     002925.SZ   20200522  51.50  51.50  48.11  48.80      51.30   -2.50   \n2     002939.SZ   20200522  11.80  11.92  11.61  11.63      11.82   -0.19   \n3     002913.SZ   20200522  54.10  54.10  52.81  52.90      53.79   -0.89   \n4     002915.SZ   20200522  25.03  26.22  24.41  25.27      25.05    0.22   \n...         ...        ...    ...    ...    ...    ...        ...     ...   \n4995  603868.SH   20200521  36.25  37.59  36.25  37.39      36.25    1.14   \n4996  002762.SZ   20200521   5.60   5.69   5.47   5.49       5.69   -0.20   \n4997  603515.SH   20200521  23.86  23.88  23.48  23.55      23.73   -0.18   \n4998  603919.SH   20200521  11.65  12.93  11.58  12.34      11.75    0.59   \n4999  603421.SH   20200521  14.79  14.90  14.35  14.40      14.80   -0.40   \n\n      pct_chg        vol      amount  \n0     -1.8841  119240.85  163720.692  \n1     -4.8733   39059.18  192987.938  \n2     -1.6074  189536.44  222678.053  \n3     -1.6546   18290.55   96997.712  \n4      0.8782   33511.81   84139.220  \n...       ...        ...         ...  \n4995   3.1448   23915.15   88470.938  \n4996  -3.5149   94393.50   52335.845  \n4997  -0.7585   15952.69   37681.061  \n4998   5.0213  196625.75  244385.622  \n4999  -2.7027   20271.30   29477.988  \n\n[5000 rows x 11 columns]",
      "text/html": "<div>\n<style scoped>\n    .dataframe tbody tr th:only-of-type {\n        vertical-align: middle;\n    }\n\n    .dataframe tbody tr th {\n        vertical-align: top;\n    }\n\n    .dataframe thead th {\n        text-align: right;\n    }\n</style>\n<table border=\"1\" class=\"dataframe\">\n  <thead>\n    <tr style=\"text-align: right;\">\n      <th></th>\n      <th>ts_code</th>\n      <th>trade_date</th>\n      <th>open</th>\n      <th>high</th>\n      <th>low</th>\n      <th>close</th>\n      <th>pre_close</th>\n      <th>change</th>\n      <th>pct_chg</th>\n      <th>vol</th>\n      <th>amount</th>\n    </tr>\n  </thead>\n  <tbody>\n    <tr>\n      <th>0</th>\n      <td>002945.SZ</td>\n      <td>20200522</td>\n      <td>13.78</td>\n      <td>13.94</td>\n      <td>13.52</td>\n      <td>13.54</td>\n      <td>13.80</td>\n      <td>-0.26</td>\n      <td>-1.8841</td>\n      <td>119240.85</td>\n      <td>163720.692</td>\n    </tr>\n    <tr>\n      <th>1</th>\n      <td>002925.SZ</td>\n      <td>20200522</td>\n      <td>51.50</td>\n      <td>51.50</td>\n      <td>48.11</td>\n      <td>48.80</td>\n      <td>51.30</td>\n      <td>-2.50</td>\n      <td>-4.8733</td>\n      <td>39059.18</td>\n      <td>192987.938</td>\n    </tr>\n    <tr>\n      <th>2</th>\n      <td>002939.SZ</td>\n      <td>20200522</td>\n      <td>11.80</td>\n      <td>11.92</td>\n      <td>11.61</td>\n      <td>11.63</td>\n      <td>11.82</td>\n      <td>-0.19</td>\n      <td>-1.6074</td>\n      <td>189536.44</td>\n      <td>222678.053</td>\n    </tr>\n    <tr>\n      <th>3</th>\n      <td>002913.SZ</td>\n      <td>20200522</td>\n      <td>54.10</td>\n      <td>54.10</td>\n      <td>52.81</td>\n      <td>52.90</td>\n      <td>53.79</td>\n      <td>-0.89</td>\n      <td>-1.6546</td>\n      <td>18290.55</td>\n      <td>96997.712</td>\n    </tr>\n    <tr>\n      <th>4</th>\n      <td>002915.SZ</td>\n      <td>20200522</td>\n      <td>25.03</td>\n      <td>26.22</td>\n      <td>24.41</td>\n      <td>25.27</td>\n      <td>25.05</td>\n      <td>0.22</td>\n      <td>0.8782</td>\n      <td>33511.81</td>\n      <td>84139.220</td>\n    </tr>\n    <tr>\n      <th>...</th>\n      <td>...</td>\n      <td>...</td>\n      <td>...</td>\n      <td>...</td>\n      <td>...</td>\n      <td>...</td>\n      <td>...</td>\n      <td>...</td>\n      <td>...</td>\n      <td>...</td>\n      <td>...</td>\n    </tr>\n    <tr>\n      <th>4995</th>\n      <td>603868.SH</td>\n      <td>20200521</td>\n      <td>36.25</td>\n      <td>37.59</td>\n      <td>36.25</td>\n      <td>37.39</td>\n      <td>36.25</td>\n      <td>1.14</td>\n      <td>3.1448</td>\n      <td>23915.15</td>\n      <td>88470.938</td>\n    </tr>\n    <tr>\n      <th>4996</th>\n      <td>002762.SZ</td>\n      <td>20200521</td>\n      <td>5.60</td>\n      <td>5.69</td>\n      <td>5.47</td>\n      <td>5.49</td>\n      <td>5.69</td>\n      <td>-0.20</td>\n      <td>-3.5149</td>\n      <td>94393.50</td>\n      <td>52335.845</td>\n    </tr>\n    <tr>\n      <th>4997</th>\n      <td>603515.SH</td>\n      <td>20200521</td>\n      <td>23.86</td>\n      <td>23.88</td>\n      <td>23.48</td>\n      <td>23.55</td>\n      <td>23.73</td>\n      <td>-0.18</td>\n      <td>-0.7585</td>\n      <td>15952.69</td>\n      <td>37681.061</td>\n    </tr>\n    <tr>\n      <th>4998</th>\n      <td>603919.SH</td>\n      <td>20200521</td>\n      <td>11.65</td>\n      <td>12.93</td>\n      <td>11.58</td>\n      <td>12.34</td>\n      <td>11.75</td>\n      <td>0.59</td>\n      <td>5.0213</td>\n      <td>196625.75</td>\n      <td>244385.622</td>\n    </tr>\n    <tr>\n      <th>4999</th>\n      <td>603421.SH</td>\n      <td>20200521</td>\n      <td>14.79</td>\n      <td>14.90</td>\n      <td>14.35</td>\n      <td>14.40</td>\n      <td>14.80</td>\n      <td>-0.40</td>\n      <td>-2.7027</td>\n      <td>20271.30</td>\n      <td>29477.988</td>\n    </tr>\n  </tbody>\n</table>\n<p>5000 rows × 11 columns</p>\n</div>"
     },
     "metadata": {},
     "execution_count": 1
    }
   ],
   "source": [
    "import tushare as ts\n",
    "\n",
    "ts.set_token('2ea612d41ee1fdb2fed04bb097debcbcee8d43eeba5570a2605d6914')\n",
    "\n",
    "pro = ts.pro_api()\n",
    "\n",
    "pro.daily()"
   ]
  },
  {
   "cell_type": "code",
   "execution_count": null,
   "metadata": {},
   "outputs": [],
   "source": []
  }
 ],
 "metadata": {
  "language_info": {
   "codemirror_mode": {
    "name": "ipython",
    "version": 3
   },
   "file_extension": ".py",
   "mimetype": "text/x-python",
   "name": "python",
   "nbconvert_exporter": "python",
   "pygments_lexer": "ipython3",
   "version": "3.7.4-final"
  },
  "orig_nbformat": 2,
  "kernelspec": {
   "name": "python37464bit0ee7e298475f4656b8ea4725d7d52055",
   "display_name": "Python 3.7.4 64-bit"
  }
 },
 "nbformat": 4,
 "nbformat_minor": 2
}