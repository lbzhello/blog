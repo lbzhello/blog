{
 "cells": [
  {
   "cell_type": "code",
   "execution_count": 8,
   "metadata": {},
   "outputs": [
    {
     "output_type": "execute_result",
     "data": {
      "text/plain": "        ts_code trade_date   open   high    low  close  pre_close  change  \\\n0     002945.SZ   20200522  13.78  13.94  13.52  13.54      13.80   -0.26   \n1     002925.SZ   20200522  51.50  51.50  48.11  48.80      51.30   -2.50   \n2     002939.SZ   20200522  11.80  11.92  11.61  11.63      11.82   -0.19   \n3     002913.SZ   20200522  54.10  54.10  52.81  52.90      53.79   -0.89   \n4     002915.SZ   20200522  25.03  26.22  24.41  25.27      25.05    0.22   \n...         ...        ...    ...    ...    ...    ...        ...     ...   \n4995  603868.SH   20200521  36.25  37.59  36.25  37.39      36.25    1.14   \n4996  002762.SZ   20200521   5.60   5.69   5.47   5.49       5.69   -0.20   \n4997  603515.SH   20200521  23.86  23.88  23.48  23.55      23.73   -0.18   \n4998  603919.SH   20200521  11.65  12.93  11.58  12.34      11.75    0.59   \n4999  603421.SH   20200521  14.79  14.90  14.35  14.40      14.80   -0.40   \n\n      pct_chg        vol      amount  \n0     -1.8841  119240.85  163720.692  \n1     -4.8733   39059.18  192987.938  \n2     -1.6074  189536.44  222678.053  \n3     -1.6546   18290.55   96997.712  \n4      0.8782   33511.81   84139.220  \n...       ...        ...         ...  \n4995   3.1448   23915.15   88470.938  \n4996  -3.5149   94393.50   52335.845  \n4997  -0.7585   15952.69   37681.061  \n4998   5.0213  196625.75  244385.622  \n4999  -2.7027   20271.30   29477.988  \n\n[5000 rows x 11 columns]",
      "text/html": "<div>\n<style scoped>\n    .dataframe tbody tr th:only-of-type {\n        vertical-align: middle;\n    }\n\n    .dataframe tbody tr th {\n        vertical-align: top;\n    }\n\n    .dataframe thead th {\n        text-align: right;\n    }\n</style>\n<table border=\"1\" class=\"dataframe\">\n  <thead>\n    <tr style=\"text-align: right;\">\n      <th></th>\n      <th>ts_code</th>\n      <th>trade_date</th>\n      <th>open</th>\n      <th>high</th>\n      <th>low</th>\n      <th>close</th>\n      <th>pre_close</th>\n      <th>change</th>\n      <th>pct_chg</th>\n      <th>vol</th>\n      <th>amount</th>\n    </tr>\n  </thead>\n  <tbody>\n    <tr>\n      <th>0</th>\n      <td>002945.SZ</td>\n      <td>20200522</td>\n      <td>13.78</td>\n      <td>13.94</td>\n      <td>13.52</td>\n      <td>13.54</td>\n      <td>13.80</td>\n      <td>-0.26</td>\n      <td>-1.8841</td>\n      <td>119240.85</td>\n      <td>163720.692</td>\n    </tr>\n    <tr>\n      <th>1</th>\n      <td>002925.SZ</td>\n      <td>20200522</td>\n      <td>51.50</td>\n      <td>51.50</td>\n      <td>48.11</td>\n      <td>48.80</td>\n      <td>51.30</td>\n      <td>-2.50</td>\n      <td>-4.8733</td>\n      <td>39059.18</td>\n      <td>192987.938</td>\n    </tr>\n    <tr>\n      <th>2</th>\n      <td>002939.SZ</td>\n      <td>20200522</td>\n      <td>11.80</td>\n      <td>11.92</td>\n      <td>11.61</td>\n      <td>11.63</td>\n      <td>11.82</td>\n      <td>-0.19</td>\n      <td>-1.6074</td>\n      <td>189536.44</td>\n      <td>222678.053</td>\n    </tr>\n    <tr>\n      <th>3</th>\n      <td>002913.SZ</td>\n      <td>20200522</td>\n      <td>54.10</td>\n      <td>54.10</td>\n      <td>52.81</td>\n      <td>52.90</td>\n      <td>53.79</td>\n      <td>-0.89</td>\n      <td>-1.6546</td>\n      <td>18290.55</td>\n      <td>96997.712</td>\n    </tr>\n    <tr>\n      <th>4</th>\n      <td>002915.SZ</td>\n      <td>20200522</td>\n      <td>25.03</td>\n      <td>26.22</td>\n      <td>24.41</td>\n      <td>25.27</td>\n      <td>25.05</td>\n      <td>0.22</td>\n      <td>0.8782</td>\n      <td>33511.81</td>\n      <td>84139.220</td>\n    </tr>\n    <tr>\n      <th>...</th>\n      <td>...</td>\n      <td>...</td>\n      <td>...</td>\n      <td>...</td>\n      <td>...</td>\n      <td>...</td>\n      <td>...</td>\n      <td>...</td>\n      <td>...</td>\n      <td>...</td>\n      <td>...</td>\n    </tr>\n    <tr>\n      <th>4995</th>\n      <td>603868.SH</td>\n      <td>20200521</td>\n      <td>36.25</td>\n      <td>37.59</td>\n      <td>36.25</td>\n      <td>37.39</td>\n      <td>36.25</td>\n      <td>1.14</td>\n      <td>3.1448</td>\n      <td>23915.15</td>\n      <td>88470.938</td>\n    </tr>\n    <tr>\n      <th>4996</th>\n      <td>002762.SZ</td>\n      <td>20200521</td>\n      <td>5.60</td>\n      <td>5.69</td>\n      <td>5.47</td>\n      <td>5.49</td>\n      <td>5.69</td>\n      <td>-0.20</td>\n      <td>-3.5149</td>\n      <td>94393.50</td>\n      <td>52335.845</td>\n    </tr>\n    <tr>\n      <th>4997</th>\n      <td>603515.SH</td>\n      <td>20200521</td>\n      <td>23.86</td>\n      <td>23.88</td>\n      <td>23.48</td>\n      <td>23.55</td>\n      <td>23.73</td>\n      <td>-0.18</td>\n      <td>-0.7585</td>\n      <td>15952.69</td>\n      <td>37681.061</td>\n    </tr>\n    <tr>\n      <th>4998</th>\n      <td>603919.SH</td>\n      <td>20200521</td>\n      <td>11.65</td>\n      <td>12.93</td>\n      <td>11.58</td>\n      <td>12.34</td>\n      <td>11.75</td>\n      <td>0.59</td>\n      <td>5.0213</td>\n      <td>196625.75</td>\n      <td>244385.622</td>\n    </tr>\n    <tr>\n      <th>4999</th>\n      <td>603421.SH</td>\n      <td>20200521</td>\n      <td>14.79</td>\n      <td>14.90</td>\n      <td>14.35</td>\n      <td>14.40</td>\n      <td>14.80</td>\n      <td>-0.40</td>\n      <td>-2.7027</td>\n      <td>20271.30</td>\n      <td>29477.988</td>\n    </tr>\n  </tbody>\n</table>\n<p>5000 rows × 11 columns</p>\n</div>"
     },
     "metadata": {},
     "execution_count": 8
    }
   ],
   "source": [
    "#%%\n",
    "import tushare as ts\n",
    "\n",
    "ts.set_token('2ea612d41ee1fdb2fed04bb097debcbcee8d43eeba5570a2605d6914')\n",
    "\n",
    "pro = ts.pro_api()\n",
    "\n",
    "pro.daily()"
   ]
  },
  {
   "cell_type": "code",
   "execution_count": 14,
   "metadata": {},
   "outputs": [
    {
     "output_type": "execute_result",
     "data": {
      "text/plain": "             open   high  close    low     volume  price_change  p_change  \\\ndate                                                                        \n2020-05-21  30.34  30.34  29.61  29.51  301194.66         -0.42     -1.40   \n2020-05-20  30.20  30.21  30.03  29.86  289565.75         -0.32     -1.05   \n2020-05-19  30.18  30.40  30.35  29.81  444317.91          0.45      1.50   \n2020-05-18  30.65  30.65  29.90  29.67  599298.50         -0.98     -3.17   \n2020-05-15  31.20  31.40  30.88  30.65  410569.12         -0.33     -1.06   \n2020-05-14  31.93  31.93  31.21  31.15  356143.88         -0.84     -2.62   \n2020-05-13  32.00  32.12  32.05  31.80  184934.31         -0.11     -0.34   \n2020-05-12  32.09  32.17  32.16  31.74  293003.81          0.14      0.44   \n2020-05-11  31.96  32.26  32.02  31.78  384722.25          0.18      0.56   \n2020-05-08  31.91  32.48  31.84  31.81  342266.88          0.26      0.82   \n2020-05-07  32.20  32.66  31.58  31.55  377644.09         -0.62     -1.93   \n2020-05-06  31.50  32.29  32.20  31.40  592047.38          0.14      0.44   \n\n               ma5    ma10    ma20      v_ma5     v_ma10     v_ma20  \ndate                                                                 \n2020-05-21  30.154  31.005  30.937  408989.19  360601.71  395949.36  \n2020-05-20  30.474  31.202  31.000  419979.03  368246.65  402738.58  \n2020-05-19  30.878  31.419  31.011  399052.74  398494.81  408703.02  \n2020-05-18  31.240  31.590  30.998  368789.92  405155.38  400213.34  \n2020-05-15  31.664  31.717  31.005  325874.67  372221.78  386429.71  \n2020-05-14  31.856  31.729  30.972  312214.23  381566.17  392832.77  \n2020-05-13  31.930  31.716  30.869  316514.27  427053.41  388822.24  \n2020-05-12  31.960  31.484  30.737  397936.88  435260.17  399714.94  \n2020-05-11  31.940  31.258  30.633  441520.84  428608.51  409563.80  \n2020-05-08  31.770  31.054  30.562  418568.89  414970.14  412333.82  \n2020-05-07  31.602  30.869  30.526  450918.11  431297.01  432372.29  \n2020-05-06  31.502  30.798  30.486  537592.55  437230.51  448519.96  ",
      "text/html": "<div>\n<style scoped>\n    .dataframe tbody tr th:only-of-type {\n        vertical-align: middle;\n    }\n\n    .dataframe tbody tr th {\n        vertical-align: top;\n    }\n\n    .dataframe thead th {\n        text-align: right;\n    }\n</style>\n<table border=\"1\" class=\"dataframe\">\n  <thead>\n    <tr style=\"text-align: right;\">\n      <th></th>\n      <th>open</th>\n      <th>high</th>\n      <th>close</th>\n      <th>low</th>\n      <th>volume</th>\n      <th>price_change</th>\n      <th>p_change</th>\n      <th>ma5</th>\n      <th>ma10</th>\n      <th>ma20</th>\n      <th>v_ma5</th>\n      <th>v_ma10</th>\n      <th>v_ma20</th>\n    </tr>\n    <tr>\n      <th>date</th>\n      <th></th>\n      <th></th>\n      <th></th>\n      <th></th>\n      <th></th>\n      <th></th>\n      <th></th>\n      <th></th>\n      <th></th>\n      <th></th>\n      <th></th>\n      <th></th>\n      <th></th>\n    </tr>\n  </thead>\n  <tbody>\n    <tr>\n      <th>2020-05-21</th>\n      <td>30.34</td>\n      <td>30.34</td>\n      <td>29.61</td>\n      <td>29.51</td>\n      <td>301194.66</td>\n      <td>-0.42</td>\n      <td>-1.40</td>\n      <td>30.154</td>\n      <td>31.005</td>\n      <td>30.937</td>\n      <td>408989.19</td>\n      <td>360601.71</td>\n      <td>395949.36</td>\n    </tr>\n    <tr>\n      <th>2020-05-20</th>\n      <td>30.20</td>\n      <td>30.21</td>\n      <td>30.03</td>\n      <td>29.86</td>\n      <td>289565.75</td>\n      <td>-0.32</td>\n      <td>-1.05</td>\n      <td>30.474</td>\n      <td>31.202</td>\n      <td>31.000</td>\n      <td>419979.03</td>\n      <td>368246.65</td>\n      <td>402738.58</td>\n    </tr>\n    <tr>\n      <th>2020-05-19</th>\n      <td>30.18</td>\n      <td>30.40</td>\n      <td>30.35</td>\n      <td>29.81</td>\n      <td>444317.91</td>\n      <td>0.45</td>\n      <td>1.50</td>\n      <td>30.878</td>\n      <td>31.419</td>\n      <td>31.011</td>\n      <td>399052.74</td>\n      <td>398494.81</td>\n      <td>408703.02</td>\n    </tr>\n    <tr>\n      <th>2020-05-18</th>\n      <td>30.65</td>\n      <td>30.65</td>\n      <td>29.90</td>\n      <td>29.67</td>\n      <td>599298.50</td>\n      <td>-0.98</td>\n      <td>-3.17</td>\n      <td>31.240</td>\n      <td>31.590</td>\n      <td>30.998</td>\n      <td>368789.92</td>\n      <td>405155.38</td>\n      <td>400213.34</td>\n    </tr>\n    <tr>\n      <th>2020-05-15</th>\n      <td>31.20</td>\n      <td>31.40</td>\n      <td>30.88</td>\n      <td>30.65</td>\n      <td>410569.12</td>\n      <td>-0.33</td>\n      <td>-1.06</td>\n      <td>31.664</td>\n      <td>31.717</td>\n      <td>31.005</td>\n      <td>325874.67</td>\n      <td>372221.78</td>\n      <td>386429.71</td>\n    </tr>\n    <tr>\n      <th>2020-05-14</th>\n      <td>31.93</td>\n      <td>31.93</td>\n      <td>31.21</td>\n      <td>31.15</td>\n      <td>356143.88</td>\n      <td>-0.84</td>\n      <td>-2.62</td>\n      <td>31.856</td>\n      <td>31.729</td>\n      <td>30.972</td>\n      <td>312214.23</td>\n      <td>381566.17</td>\n      <td>392832.77</td>\n    </tr>\n    <tr>\n      <th>2020-05-13</th>\n      <td>32.00</td>\n      <td>32.12</td>\n      <td>32.05</td>\n      <td>31.80</td>\n      <td>184934.31</td>\n      <td>-0.11</td>\n      <td>-0.34</td>\n      <td>31.930</td>\n      <td>31.716</td>\n      <td>30.869</td>\n      <td>316514.27</td>\n      <td>427053.41</td>\n      <td>388822.24</td>\n    </tr>\n    <tr>\n      <th>2020-05-12</th>\n      <td>32.09</td>\n      <td>32.17</td>\n      <td>32.16</td>\n      <td>31.74</td>\n      <td>293003.81</td>\n      <td>0.14</td>\n      <td>0.44</td>\n      <td>31.960</td>\n      <td>31.484</td>\n      <td>30.737</td>\n      <td>397936.88</td>\n      <td>435260.17</td>\n      <td>399714.94</td>\n    </tr>\n    <tr>\n      <th>2020-05-11</th>\n      <td>31.96</td>\n      <td>32.26</td>\n      <td>32.02</td>\n      <td>31.78</td>\n      <td>384722.25</td>\n      <td>0.18</td>\n      <td>0.56</td>\n      <td>31.940</td>\n      <td>31.258</td>\n      <td>30.633</td>\n      <td>441520.84</td>\n      <td>428608.51</td>\n      <td>409563.80</td>\n    </tr>\n    <tr>\n      <th>2020-05-08</th>\n      <td>31.91</td>\n      <td>32.48</td>\n      <td>31.84</td>\n      <td>31.81</td>\n      <td>342266.88</td>\n      <td>0.26</td>\n      <td>0.82</td>\n      <td>31.770</td>\n      <td>31.054</td>\n      <td>30.562</td>\n      <td>418568.89</td>\n      <td>414970.14</td>\n      <td>412333.82</td>\n    </tr>\n    <tr>\n      <th>2020-05-07</th>\n      <td>32.20</td>\n      <td>32.66</td>\n      <td>31.58</td>\n      <td>31.55</td>\n      <td>377644.09</td>\n      <td>-0.62</td>\n      <td>-1.93</td>\n      <td>31.602</td>\n      <td>30.869</td>\n      <td>30.526</td>\n      <td>450918.11</td>\n      <td>431297.01</td>\n      <td>432372.29</td>\n    </tr>\n    <tr>\n      <th>2020-05-06</th>\n      <td>31.50</td>\n      <td>32.29</td>\n      <td>32.20</td>\n      <td>31.40</td>\n      <td>592047.38</td>\n      <td>0.14</td>\n      <td>0.44</td>\n      <td>31.502</td>\n      <td>30.798</td>\n      <td>30.486</td>\n      <td>537592.55</td>\n      <td>437230.51</td>\n      <td>448519.96</td>\n    </tr>\n  </tbody>\n</table>\n</div>"
     },
     "metadata": {},
     "execution_count": 14
    }
   ],
   "source": [
    "ts.get_hist_data(code='002415', start='2020-05-01', end='2020-05-21')"
   ]
  },
  {
   "cell_type": "code",
   "execution_count": null,
   "metadata": {},
   "outputs": [],
   "source": []
  },
  {
   "cell_type": "code",
   "execution_count": null,
   "metadata": {},
   "outputs": [],
   "source": []
  },
  {
   "cell_type": "code",
   "execution_count": null,
   "metadata": {},
   "outputs": [],
   "source": []
  },
  {
   "cell_type": "code",
   "execution_count": null,
   "metadata": {},
   "outputs": [],
   "source": []
  },
  {
   "cell_type": "code",
   "execution_count": null,
   "metadata": {},
   "outputs": [],
   "source": []
  }
 ],
 "metadata": {
  "language_info": {
   "codemirror_mode": {
    "name": "ipython",
    "version": 3
   },
   "file_extension": ".py",
   "mimetype": "text/x-python",
   "name": "python",
   "nbconvert_exporter": "python",
   "pygments_lexer": "ipython3",
   "version": "3.7.4-final"
  },
  "orig_nbformat": 2,
  "kernelspec": {
   "name": "python37464bit0ee7e298475f4656b8ea4725d7d52055",
   "display_name": "Python 3.7.4 64-bit"
  }
 },
 "nbformat": 4,
 "nbformat_minor": 2
}